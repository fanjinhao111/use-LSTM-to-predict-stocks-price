{
 "cells": [
  {
   "cell_type": "code",
   "execution_count": 1,
   "id": "8e815b7e",
   "metadata": {},
   "outputs": [],
   "source": [
    "import pandas_datareader.data as web#从互联网上拿数据\n",
    "import datetime\n",
    "start = datetime.datetime(2000,1,1)\n",
    "end = datetime.datetime(2022,3,19)\n",
    "df = web.DataReader('GOOGL','stooq',start,end)#谷歌股票"
   ]
  },
  {
   "cell_type": "code",
   "execution_count": 15,
   "id": "ba801e61",
   "metadata": {},
   "outputs": [
    {
     "data": {
      "text/html": [
       "<div>\n",
       "<style scoped>\n",
       "    .dataframe tbody tr th:only-of-type {\n",
       "        vertical-align: middle;\n",
       "    }\n",
       "\n",
       "    .dataframe tbody tr th {\n",
       "        vertical-align: top;\n",
       "    }\n",
       "\n",
       "    .dataframe thead th {\n",
       "        text-align: right;\n",
       "    }\n",
       "</style>\n",
       "<table border=\"1\" class=\"dataframe\">\n",
       "  <thead>\n",
       "    <tr style=\"text-align: right;\">\n",
       "      <th></th>\n",
       "      <th>Open</th>\n",
       "      <th>High</th>\n",
       "      <th>Low</th>\n",
       "      <th>Close</th>\n",
       "      <th>Volume</th>\n",
       "      <th>label</th>\n",
       "    </tr>\n",
       "    <tr>\n",
       "      <th>Date</th>\n",
       "      <th></th>\n",
       "      <th></th>\n",
       "      <th></th>\n",
       "      <th></th>\n",
       "      <th></th>\n",
       "      <th></th>\n",
       "    </tr>\n",
       "  </thead>\n",
       "  <tbody>\n",
       "    <tr>\n",
       "      <th>2004-08-19</th>\n",
       "      <td>50.000</td>\n",
       "      <td>52.030</td>\n",
       "      <td>47.980</td>\n",
       "      <td>50.170</td>\n",
       "      <td>44703800.0</td>\n",
       "      <td>50.755</td>\n",
       "    </tr>\n",
       "    <tr>\n",
       "      <th>2004-08-20</th>\n",
       "      <td>50.505</td>\n",
       "      <td>54.540</td>\n",
       "      <td>50.250</td>\n",
       "      <td>54.155</td>\n",
       "      <td>22857200.0</td>\n",
       "      <td>50.005</td>\n",
       "    </tr>\n",
       "    <tr>\n",
       "      <th>2004-08-23</th>\n",
       "      <td>55.375</td>\n",
       "      <td>56.740</td>\n",
       "      <td>54.525</td>\n",
       "      <td>54.700</td>\n",
       "      <td>18274400.0</td>\n",
       "      <td>50.790</td>\n",
       "    </tr>\n",
       "    <tr>\n",
       "      <th>2004-08-24</th>\n",
       "      <td>55.620</td>\n",
       "      <td>55.800</td>\n",
       "      <td>51.785</td>\n",
       "      <td>52.435</td>\n",
       "      <td>15262600.0</td>\n",
       "      <td>51.150</td>\n",
       "    </tr>\n",
       "    <tr>\n",
       "      <th>2004-08-25</th>\n",
       "      <td>52.480</td>\n",
       "      <td>54.000</td>\n",
       "      <td>51.940</td>\n",
       "      <td>53.000</td>\n",
       "      <td>9197800.0</td>\n",
       "      <td>51.155</td>\n",
       "    </tr>\n",
       "    <tr>\n",
       "      <th>...</th>\n",
       "      <td>...</td>\n",
       "      <td>...</td>\n",
       "      <td>...</td>\n",
       "      <td>...</td>\n",
       "      <td>...</td>\n",
       "      <td>...</td>\n",
       "    </tr>\n",
       "    <tr>\n",
       "      <th>2022-03-14</th>\n",
       "      <td>2605.000</td>\n",
       "      <td>2608.180</td>\n",
       "      <td>2505.500</td>\n",
       "      <td>2519.020</td>\n",
       "      <td>1940563.0</td>\n",
       "      <td>NaN</td>\n",
       "    </tr>\n",
       "    <tr>\n",
       "      <th>2022-03-15</th>\n",
       "      <td>2539.520</td>\n",
       "      <td>2597.090</td>\n",
       "      <td>2514.410</td>\n",
       "      <td>2583.960</td>\n",
       "      <td>1545976.0</td>\n",
       "      <td>NaN</td>\n",
       "    </tr>\n",
       "    <tr>\n",
       "      <th>2022-03-16</th>\n",
       "      <td>2614.660</td>\n",
       "      <td>2666.660</td>\n",
       "      <td>2574.690</td>\n",
       "      <td>2665.610</td>\n",
       "      <td>1778849.0</td>\n",
       "      <td>NaN</td>\n",
       "    </tr>\n",
       "    <tr>\n",
       "      <th>2022-03-17</th>\n",
       "      <td>2662.980</td>\n",
       "      <td>2681.608</td>\n",
       "      <td>2643.700</td>\n",
       "      <td>2676.780</td>\n",
       "      <td>1413196.0</td>\n",
       "      <td>NaN</td>\n",
       "    </tr>\n",
       "    <tr>\n",
       "      <th>2022-03-18</th>\n",
       "      <td>2668.490</td>\n",
       "      <td>2724.880</td>\n",
       "      <td>2645.165</td>\n",
       "      <td>2722.510</td>\n",
       "      <td>2228345.0</td>\n",
       "      <td>NaN</td>\n",
       "    </tr>\n",
       "  </tbody>\n",
       "</table>\n",
       "<p>4426 rows × 6 columns</p>\n",
       "</div>"
      ],
      "text/plain": [
       "                Open      High       Low     Close      Volume   label\n",
       "Date                                                                  \n",
       "2004-08-19    50.000    52.030    47.980    50.170  44703800.0  50.755\n",
       "2004-08-20    50.505    54.540    50.250    54.155  22857200.0  50.005\n",
       "2004-08-23    55.375    56.740    54.525    54.700  18274400.0  50.790\n",
       "2004-08-24    55.620    55.800    51.785    52.435  15262600.0  51.150\n",
       "2004-08-25    52.480    54.000    51.940    53.000   9197800.0  51.155\n",
       "...              ...       ...       ...       ...         ...     ...\n",
       "2022-03-14  2605.000  2608.180  2505.500  2519.020   1940563.0     NaN\n",
       "2022-03-15  2539.520  2597.090  2514.410  2583.960   1545976.0     NaN\n",
       "2022-03-16  2614.660  2666.660  2574.690  2665.610   1778849.0     NaN\n",
       "2022-03-17  2662.980  2681.608  2643.700  2676.780   1413196.0     NaN\n",
       "2022-03-18  2668.490  2724.880  2645.165  2722.510   2228345.0     NaN\n",
       "\n",
       "[4426 rows x 6 columns]"
      ]
     },
     "execution_count": 15,
     "metadata": {},
     "output_type": "execute_result"
    }
   ],
   "source": [
    "df"
   ]
  },
  {
   "cell_type": "code",
   "execution_count": 2,
   "id": "fd8bfa4c",
   "metadata": {},
   "outputs": [],
   "source": [
    "def Stock_Price_LSTM_Data_Precesing(df,mem_his_days,pre_days):\n",
    "    df.dropna(inplace=True)#删除空值\n",
    "    df.sort_index(inplace=True)#按时间从小到大排序\n",
    "\n",
    "    df['label'] = df['Close'].shift(-pre_days)#加一个lable收盘价往上移10天\n",
    "\n",
    "    from sklearn.preprocessing import StandardScaler\n",
    "    scaler = StandardScaler()#数据标准化(均值方差归一化https://www.cnblogs.com/volcao/p/9089716.html)\n",
    "    sca_X = scaler.fit_transform(df.iloc[:,:-1])#去掉最后一列lable\n",
    "\n",
    "   \n",
    "\n",
    "    from collections import deque#引入队列(先进先出)\n",
    "    deq = deque(maxlen = mem_his_days)\n",
    "\n",
    "    X = [] #list\n",
    "    for i in sca_X:\n",
    "        deq.append(list(i))\n",
    "        if len(deq)==mem_his_days:\n",
    "            X.append(list(deq))\n",
    "\n",
    "    X_lately = X[-pre_days:]#记录最后几条记录\n",
    "    X = X[:-pre_days]\n",
    "\n",
    "\n",
    "    y = df['label'][mem_his_days-1:-pre_days]\n",
    "\n",
    "\n",
    "    import numpy as np\n",
    "    X = np.array(X)\n",
    "    y = np.array(y)\n",
    "    \n",
    "    return X,y,X_lately"
   ]
  },
  {
   "cell_type": "code",
   "execution_count": 4,
   "id": "61162abc",
   "metadata": {},
   "outputs": [
    {
     "name": "stdout",
     "output_type": "stream",
     "text": [
      "Epoch 1/50\n",
      "119/125 [===========================>..] - ETA: 0s - loss: 245003.2344 - mape: 73.7186INFO:tensorflow:Assets written to: ./models\\109.15_01_mem_5_lstm_1_dense_1_unit_32\\assets\n"
     ]
    },
    {
     "name": "stderr",
     "output_type": "stream",
     "text": [
      "WARNING:absl:<keras.layers.recurrent.LSTMCell object at 0x0000016192926460> has the same name 'LSTMCell' as a built-in Keras object. Consider renaming <class 'keras.layers.recurrent.LSTMCell'> to avoid naming conflicts when loading with `tf.keras.models.load_model`. If renaming is not possible, pass the object in the `custom_objects` parameter of the load function.\n",
      "WARNING:absl:<keras.layers.recurrent.LSTMCell object at 0x00000161990601C0> has the same name 'LSTMCell' as a built-in Keras object. Consider renaming <class 'keras.layers.recurrent.LSTMCell'> to avoid naming conflicts when loading with `tf.keras.models.load_model`. If renaming is not possible, pass the object in the `custom_objects` parameter of the load function.\n",
      "WARNING:absl:<keras.layers.recurrent.LSTMCell object at 0x00000161991FCB50> has the same name 'LSTMCell' as a built-in Keras object. Consider renaming <class 'keras.layers.recurrent.LSTMCell'> to avoid naming conflicts when loading with `tf.keras.models.load_model`. If renaming is not possible, pass the object in the `custom_objects` parameter of the load function.\n"
     ]
    },
    {
     "name": "stdout",
     "output_type": "stream",
     "text": [
      "125/125 [==============================] - 7s 39ms/step - loss: 236548.7969 - mape: 71.9019 - val_loss: 11777194.0000 - val_mape: 109.1479\n",
      "Epoch 2/50\n",
      "124/125 [============================>.] - ETA: 0s - loss: 20227.9727 - mape: 26.9531INFO:tensorflow:Assets written to: ./models\\54.03_02_mem_5_lstm_1_dense_1_unit_32\\assets\n"
     ]
    },
    {
     "name": "stderr",
     "output_type": "stream",
     "text": [
      "INFO:tensorflow:Assets written to: ./models\\54.03_02_mem_5_lstm_1_dense_1_unit_32\\assets\n",
      "WARNING:absl:<keras.layers.recurrent.LSTMCell object at 0x0000016192926460> has the same name 'LSTMCell' as a built-in Keras object. Consider renaming <class 'keras.layers.recurrent.LSTMCell'> to avoid naming conflicts when loading with `tf.keras.models.load_model`. If renaming is not possible, pass the object in the `custom_objects` parameter of the load function.\n",
      "WARNING:absl:<keras.layers.recurrent.LSTMCell object at 0x00000161990601C0> has the same name 'LSTMCell' as a built-in Keras object. Consider renaming <class 'keras.layers.recurrent.LSTMCell'> to avoid naming conflicts when loading with `tf.keras.models.load_model`. If renaming is not possible, pass the object in the `custom_objects` parameter of the load function.\n",
      "WARNING:absl:<keras.layers.recurrent.LSTMCell object at 0x00000161991FCB50> has the same name 'LSTMCell' as a built-in Keras object. Consider renaming <class 'keras.layers.recurrent.LSTMCell'> to avoid naming conflicts when loading with `tf.keras.models.load_model`. If renaming is not possible, pass the object in the `custom_objects` parameter of the load function.\n"
     ]
    },
    {
     "name": "stdout",
     "output_type": "stream",
     "text": [
      "125/125 [==============================] - 4s 35ms/step - loss: 20224.8594 - mape: 26.9448 - val_loss: 3217828.7500 - val_mape: 54.0309\n",
      "Epoch 3/50\n",
      "121/125 [============================>.] - ETA: 0s - loss: 15364.9111 - mape: 24.0329INFO:tensorflow:Assets written to: ./models\\43.71_03_mem_5_lstm_1_dense_1_unit_32\\assets\n"
     ]
    },
    {
     "name": "stderr",
     "output_type": "stream",
     "text": [
      "INFO:tensorflow:Assets written to: ./models\\43.71_03_mem_5_lstm_1_dense_1_unit_32\\assets\n",
      "WARNING:absl:<keras.layers.recurrent.LSTMCell object at 0x0000016192926460> has the same name 'LSTMCell' as a built-in Keras object. Consider renaming <class 'keras.layers.recurrent.LSTMCell'> to avoid naming conflicts when loading with `tf.keras.models.load_model`. If renaming is not possible, pass the object in the `custom_objects` parameter of the load function.\n",
      "WARNING:absl:<keras.layers.recurrent.LSTMCell object at 0x00000161990601C0> has the same name 'LSTMCell' as a built-in Keras object. Consider renaming <class 'keras.layers.recurrent.LSTMCell'> to avoid naming conflicts when loading with `tf.keras.models.load_model`. If renaming is not possible, pass the object in the `custom_objects` parameter of the load function.\n",
      "WARNING:absl:<keras.layers.recurrent.LSTMCell object at 0x00000161991FCB50> has the same name 'LSTMCell' as a built-in Keras object. Consider renaming <class 'keras.layers.recurrent.LSTMCell'> to avoid naming conflicts when loading with `tf.keras.models.load_model`. If renaming is not possible, pass the object in the `custom_objects` parameter of the load function.\n"
     ]
    },
    {
     "name": "stdout",
     "output_type": "stream",
     "text": [
      "125/125 [==============================] - 4s 33ms/step - loss: 15301.6816 - mape: 24.0240 - val_loss: 2082003.8750 - val_mape: 43.7118\n",
      "Epoch 4/50\n",
      "123/125 [============================>.] - ETA: 0s - loss: 12753.7295 - mape: 21.7737INFO:tensorflow:Assets written to: ./models\\34.48_04_mem_5_lstm_1_dense_1_unit_32\\assets\n"
     ]
    },
    {
     "name": "stderr",
     "output_type": "stream",
     "text": [
      "INFO:tensorflow:Assets written to: ./models\\34.48_04_mem_5_lstm_1_dense_1_unit_32\\assets\n",
      "WARNING:absl:<keras.layers.recurrent.LSTMCell object at 0x0000016192926460> has the same name 'LSTMCell' as a built-in Keras object. Consider renaming <class 'keras.layers.recurrent.LSTMCell'> to avoid naming conflicts when loading with `tf.keras.models.load_model`. If renaming is not possible, pass the object in the `custom_objects` parameter of the load function.\n",
      "WARNING:absl:<keras.layers.recurrent.LSTMCell object at 0x00000161990601C0> has the same name 'LSTMCell' as a built-in Keras object. Consider renaming <class 'keras.layers.recurrent.LSTMCell'> to avoid naming conflicts when loading with `tf.keras.models.load_model`. If renaming is not possible, pass the object in the `custom_objects` parameter of the load function.\n",
      "WARNING:absl:<keras.layers.recurrent.LSTMCell object at 0x00000161991FCB50> has the same name 'LSTMCell' as a built-in Keras object. Consider renaming <class 'keras.layers.recurrent.LSTMCell'> to avoid naming conflicts when loading with `tf.keras.models.load_model`. If renaming is not possible, pass the object in the `custom_objects` parameter of the load function.\n"
     ]
    },
    {
     "name": "stdout",
     "output_type": "stream",
     "text": [
      "125/125 [==============================] - 4s 35ms/step - loss: 12770.9395 - mape: 21.7716 - val_loss: 1326604.2500 - val_mape: 34.4790\n",
      "Epoch 5/50\n",
      "119/125 [===========================>..] - ETA: 0s - loss: 11478.0850 - mape: 18.1787INFO:tensorflow:Assets written to: ./models\\24.58_05_mem_5_lstm_1_dense_1_unit_32\\assets\n"
     ]
    },
    {
     "name": "stderr",
     "output_type": "stream",
     "text": [
      "INFO:tensorflow:Assets written to: ./models\\24.58_05_mem_5_lstm_1_dense_1_unit_32\\assets\n",
      "WARNING:absl:<keras.layers.recurrent.LSTMCell object at 0x0000016192926460> has the same name 'LSTMCell' as a built-in Keras object. Consider renaming <class 'keras.layers.recurrent.LSTMCell'> to avoid naming conflicts when loading with `tf.keras.models.load_model`. If renaming is not possible, pass the object in the `custom_objects` parameter of the load function.\n",
      "WARNING:absl:<keras.layers.recurrent.LSTMCell object at 0x00000161990601C0> has the same name 'LSTMCell' as a built-in Keras object. Consider renaming <class 'keras.layers.recurrent.LSTMCell'> to avoid naming conflicts when loading with `tf.keras.models.load_model`. If renaming is not possible, pass the object in the `custom_objects` parameter of the load function.\n",
      "WARNING:absl:<keras.layers.recurrent.LSTMCell object at 0x00000161991FCB50> has the same name 'LSTMCell' as a built-in Keras object. Consider renaming <class 'keras.layers.recurrent.LSTMCell'> to avoid naming conflicts when loading with `tf.keras.models.load_model`. If renaming is not possible, pass the object in the `custom_objects` parameter of the load function.\n"
     ]
    },
    {
     "name": "stdout",
     "output_type": "stream",
     "text": [
      "125/125 [==============================] - 4s 32ms/step - loss: 11460.0547 - mape: 17.9679 - val_loss: 658311.3750 - val_mape: 24.5784\n",
      "Epoch 6/50\n",
      "122/125 [============================>.] - ETA: 0s - loss: 9387.9111 - mape: 15.7687INFO:tensorflow:Assets written to: ./models\\20.73_06_mem_5_lstm_1_dense_1_unit_32\\assets\n"
     ]
    },
    {
     "name": "stderr",
     "output_type": "stream",
     "text": [
      "INFO:tensorflow:Assets written to: ./models\\20.73_06_mem_5_lstm_1_dense_1_unit_32\\assets\n",
      "WARNING:absl:<keras.layers.recurrent.LSTMCell object at 0x0000016192926460> has the same name 'LSTMCell' as a built-in Keras object. Consider renaming <class 'keras.layers.recurrent.LSTMCell'> to avoid naming conflicts when loading with `tf.keras.models.load_model`. If renaming is not possible, pass the object in the `custom_objects` parameter of the load function.\n",
      "WARNING:absl:<keras.layers.recurrent.LSTMCell object at 0x00000161990601C0> has the same name 'LSTMCell' as a built-in Keras object. Consider renaming <class 'keras.layers.recurrent.LSTMCell'> to avoid naming conflicts when loading with `tf.keras.models.load_model`. If renaming is not possible, pass the object in the `custom_objects` parameter of the load function.\n",
      "WARNING:absl:<keras.layers.recurrent.LSTMCell object at 0x00000161991FCB50> has the same name 'LSTMCell' as a built-in Keras object. Consider renaming <class 'keras.layers.recurrent.LSTMCell'> to avoid naming conflicts when loading with `tf.keras.models.load_model`. If renaming is not possible, pass the object in the `custom_objects` parameter of the load function.\n"
     ]
    },
    {
     "name": "stdout",
     "output_type": "stream",
     "text": [
      "125/125 [==============================] - 4s 34ms/step - loss: 9346.5537 - mape: 15.8168 - val_loss: 478480.3750 - val_mape: 20.7270\n",
      "Epoch 7/50\n",
      "125/125 [==============================] - 1s 7ms/step - loss: 8636.5029 - mape: 14.1795 - val_loss: 584205.3750 - val_mape: 22.5187\n",
      "Epoch 8/50\n",
      "125/125 [==============================] - ETA: 0s - loss: 8143.6519 - mape: 13.5395INFO:tensorflow:Assets written to: ./models\\16.82_08_mem_5_lstm_1_dense_1_unit_32\\assets\n"
     ]
    },
    {
     "name": "stderr",
     "output_type": "stream",
     "text": [
      "INFO:tensorflow:Assets written to: ./models\\16.82_08_mem_5_lstm_1_dense_1_unit_32\\assets\n",
      "WARNING:absl:<keras.layers.recurrent.LSTMCell object at 0x0000016192926460> has the same name 'LSTMCell' as a built-in Keras object. Consider renaming <class 'keras.layers.recurrent.LSTMCell'> to avoid naming conflicts when loading with `tf.keras.models.load_model`. If renaming is not possible, pass the object in the `custom_objects` parameter of the load function.\n",
      "WARNING:absl:<keras.layers.recurrent.LSTMCell object at 0x00000161990601C0> has the same name 'LSTMCell' as a built-in Keras object. Consider renaming <class 'keras.layers.recurrent.LSTMCell'> to avoid naming conflicts when loading with `tf.keras.models.load_model`. If renaming is not possible, pass the object in the `custom_objects` parameter of the load function.\n",
      "WARNING:absl:<keras.layers.recurrent.LSTMCell object at 0x00000161991FCB50> has the same name 'LSTMCell' as a built-in Keras object. Consider renaming <class 'keras.layers.recurrent.LSTMCell'> to avoid naming conflicts when loading with `tf.keras.models.load_model`. If renaming is not possible, pass the object in the `custom_objects` parameter of the load function.\n"
     ]
    },
    {
     "name": "stdout",
     "output_type": "stream",
     "text": [
      "125/125 [==============================] - 4s 33ms/step - loss: 8143.6519 - mape: 13.5395 - val_loss: 279930.3750 - val_mape: 16.8212\n",
      "Epoch 9/50\n",
      "124/125 [============================>.] - ETA: 0s - loss: 8309.8271 - mape: 13.6772INFO:tensorflow:Assets written to: ./models\\14.26_09_mem_5_lstm_1_dense_1_unit_32\\assets\n"
     ]
    },
    {
     "name": "stderr",
     "output_type": "stream",
     "text": [
      "INFO:tensorflow:Assets written to: ./models\\14.26_09_mem_5_lstm_1_dense_1_unit_32\\assets\n",
      "WARNING:absl:<keras.layers.recurrent.LSTMCell object at 0x0000016192926460> has the same name 'LSTMCell' as a built-in Keras object. Consider renaming <class 'keras.layers.recurrent.LSTMCell'> to avoid naming conflicts when loading with `tf.keras.models.load_model`. If renaming is not possible, pass the object in the `custom_objects` parameter of the load function.\n",
      "WARNING:absl:<keras.layers.recurrent.LSTMCell object at 0x00000161990601C0> has the same name 'LSTMCell' as a built-in Keras object. Consider renaming <class 'keras.layers.recurrent.LSTMCell'> to avoid naming conflicts when loading with `tf.keras.models.load_model`. If renaming is not possible, pass the object in the `custom_objects` parameter of the load function.\n",
      "WARNING:absl:<keras.layers.recurrent.LSTMCell object at 0x00000161991FCB50> has the same name 'LSTMCell' as a built-in Keras object. Consider renaming <class 'keras.layers.recurrent.LSTMCell'> to avoid naming conflicts when loading with `tf.keras.models.load_model`. If renaming is not possible, pass the object in the `custom_objects` parameter of the load function.\n"
     ]
    },
    {
     "name": "stdout",
     "output_type": "stream",
     "text": [
      "125/125 [==============================] - 4s 35ms/step - loss: 8306.8994 - mape: 13.6782 - val_loss: 168009.3750 - val_mape: 14.2584\n",
      "Epoch 10/50\n",
      "125/125 [==============================] - 1s 7ms/step - loss: 7284.2344 - mape: 13.0547 - val_loss: 242020.1094 - val_mape: 14.9266\n",
      "Epoch 11/50\n",
      "118/125 [===========================>..] - ETA: 0s - loss: 7705.9102 - mape: 13.0672INFO:tensorflow:Assets written to: ./models\\14.04_11_mem_5_lstm_1_dense_1_unit_32\\assets\n"
     ]
    },
    {
     "name": "stderr",
     "output_type": "stream",
     "text": [
      "INFO:tensorflow:Assets written to: ./models\\14.04_11_mem_5_lstm_1_dense_1_unit_32\\assets\n",
      "WARNING:absl:<keras.layers.recurrent.LSTMCell object at 0x0000016192926460> has the same name 'LSTMCell' as a built-in Keras object. Consider renaming <class 'keras.layers.recurrent.LSTMCell'> to avoid naming conflicts when loading with `tf.keras.models.load_model`. If renaming is not possible, pass the object in the `custom_objects` parameter of the load function.\n",
      "WARNING:absl:<keras.layers.recurrent.LSTMCell object at 0x00000161990601C0> has the same name 'LSTMCell' as a built-in Keras object. Consider renaming <class 'keras.layers.recurrent.LSTMCell'> to avoid naming conflicts when loading with `tf.keras.models.load_model`. If renaming is not possible, pass the object in the `custom_objects` parameter of the load function.\n",
      "WARNING:absl:<keras.layers.recurrent.LSTMCell object at 0x00000161991FCB50> has the same name 'LSTMCell' as a built-in Keras object. Consider renaming <class 'keras.layers.recurrent.LSTMCell'> to avoid naming conflicts when loading with `tf.keras.models.load_model`. If renaming is not possible, pass the object in the `custom_objects` parameter of the load function.\n"
     ]
    },
    {
     "name": "stdout",
     "output_type": "stream",
     "text": [
      "125/125 [==============================] - 4s 34ms/step - loss: 7666.7783 - mape: 13.0076 - val_loss: 220142.7031 - val_mape: 14.0430\n",
      "Epoch 12/50\n",
      "125/125 [==============================] - 1s 7ms/step - loss: 7991.0220 - mape: 13.1723 - val_loss: 269661.1250 - val_mape: 15.3082\n",
      "Epoch 13/50\n",
      "123/125 [============================>.] - ETA: 0s - loss: 7681.5859 - mape: 13.1723INFO:tensorflow:Assets written to: ./models\\11.76_13_mem_5_lstm_1_dense_1_unit_32\\assets\n"
     ]
    },
    {
     "name": "stderr",
     "output_type": "stream",
     "text": [
      "INFO:tensorflow:Assets written to: ./models\\11.76_13_mem_5_lstm_1_dense_1_unit_32\\assets\n",
      "WARNING:absl:<keras.layers.recurrent.LSTMCell object at 0x0000016192926460> has the same name 'LSTMCell' as a built-in Keras object. Consider renaming <class 'keras.layers.recurrent.LSTMCell'> to avoid naming conflicts when loading with `tf.keras.models.load_model`. If renaming is not possible, pass the object in the `custom_objects` parameter of the load function.\n",
      "WARNING:absl:<keras.layers.recurrent.LSTMCell object at 0x00000161990601C0> has the same name 'LSTMCell' as a built-in Keras object. Consider renaming <class 'keras.layers.recurrent.LSTMCell'> to avoid naming conflicts when loading with `tf.keras.models.load_model`. If renaming is not possible, pass the object in the `custom_objects` parameter of the load function.\n",
      "WARNING:absl:<keras.layers.recurrent.LSTMCell object at 0x00000161991FCB50> has the same name 'LSTMCell' as a built-in Keras object. Consider renaming <class 'keras.layers.recurrent.LSTMCell'> to avoid naming conflicts when loading with `tf.keras.models.load_model`. If renaming is not possible, pass the object in the `custom_objects` parameter of the load function.\n"
     ]
    },
    {
     "name": "stdout",
     "output_type": "stream",
     "text": [
      "125/125 [==============================] - 4s 36ms/step - loss: 7684.5015 - mape: 13.1872 - val_loss: 145848.0938 - val_mape: 11.7640\n",
      "Epoch 14/50\n",
      "122/125 [============================>.] - ETA: 0s - loss: 7994.3979 - mape: 12.8491INFO:tensorflow:Assets written to: ./models\\11.18_14_mem_5_lstm_1_dense_1_unit_32\\assets\n"
     ]
    },
    {
     "name": "stderr",
     "output_type": "stream",
     "text": [
      "INFO:tensorflow:Assets written to: ./models\\11.18_14_mem_5_lstm_1_dense_1_unit_32\\assets\n",
      "WARNING:absl:<keras.layers.recurrent.LSTMCell object at 0x0000016192926460> has the same name 'LSTMCell' as a built-in Keras object. Consider renaming <class 'keras.layers.recurrent.LSTMCell'> to avoid naming conflicts when loading with `tf.keras.models.load_model`. If renaming is not possible, pass the object in the `custom_objects` parameter of the load function.\n",
      "WARNING:absl:<keras.layers.recurrent.LSTMCell object at 0x00000161990601C0> has the same name 'LSTMCell' as a built-in Keras object. Consider renaming <class 'keras.layers.recurrent.LSTMCell'> to avoid naming conflicts when loading with `tf.keras.models.load_model`. If renaming is not possible, pass the object in the `custom_objects` parameter of the load function.\n",
      "WARNING:absl:<keras.layers.recurrent.LSTMCell object at 0x00000161991FCB50> has the same name 'LSTMCell' as a built-in Keras object. Consider renaming <class 'keras.layers.recurrent.LSTMCell'> to avoid naming conflicts when loading with `tf.keras.models.load_model`. If renaming is not possible, pass the object in the `custom_objects` parameter of the load function.\n"
     ]
    },
    {
     "name": "stdout",
     "output_type": "stream",
     "text": [
      "125/125 [==============================] - 5s 36ms/step - loss: 7993.5073 - mape: 12.8258 - val_loss: 131245.7969 - val_mape: 11.1774\n",
      "Epoch 15/50\n",
      "123/125 [============================>.] - ETA: 0s - loss: 7718.6494 - mape: 12.6806INFO:tensorflow:Assets written to: ./models\\9.18_15_mem_5_lstm_1_dense_1_unit_32\\assets\n"
     ]
    },
    {
     "name": "stderr",
     "output_type": "stream",
     "text": [
      "INFO:tensorflow:Assets written to: ./models\\9.18_15_mem_5_lstm_1_dense_1_unit_32\\assets\n",
      "WARNING:absl:<keras.layers.recurrent.LSTMCell object at 0x0000016192926460> has the same name 'LSTMCell' as a built-in Keras object. Consider renaming <class 'keras.layers.recurrent.LSTMCell'> to avoid naming conflicts when loading with `tf.keras.models.load_model`. If renaming is not possible, pass the object in the `custom_objects` parameter of the load function.\n",
      "WARNING:absl:<keras.layers.recurrent.LSTMCell object at 0x00000161990601C0> has the same name 'LSTMCell' as a built-in Keras object. Consider renaming <class 'keras.layers.recurrent.LSTMCell'> to avoid naming conflicts when loading with `tf.keras.models.load_model`. If renaming is not possible, pass the object in the `custom_objects` parameter of the load function.\n",
      "WARNING:absl:<keras.layers.recurrent.LSTMCell object at 0x00000161991FCB50> has the same name 'LSTMCell' as a built-in Keras object. Consider renaming <class 'keras.layers.recurrent.LSTMCell'> to avoid naming conflicts when loading with `tf.keras.models.load_model`. If renaming is not possible, pass the object in the `custom_objects` parameter of the load function.\n"
     ]
    },
    {
     "name": "stdout",
     "output_type": "stream",
     "text": [
      "125/125 [==============================] - 4s 35ms/step - loss: 7683.1304 - mape: 12.6552 - val_loss: 69302.3516 - val_mape: 9.1785\n",
      "Epoch 16/50\n",
      "125/125 [==============================] - ETA: 0s - loss: 6794.8853 - mape: 12.5420INFO:tensorflow:Assets written to: ./models\\8.22_16_mem_5_lstm_1_dense_1_unit_32\\assets\n"
     ]
    },
    {
     "name": "stderr",
     "output_type": "stream",
     "text": [
      "INFO:tensorflow:Assets written to: ./models\\8.22_16_mem_5_lstm_1_dense_1_unit_32\\assets\n",
      "WARNING:absl:<keras.layers.recurrent.LSTMCell object at 0x0000016192926460> has the same name 'LSTMCell' as a built-in Keras object. Consider renaming <class 'keras.layers.recurrent.LSTMCell'> to avoid naming conflicts when loading with `tf.keras.models.load_model`. If renaming is not possible, pass the object in the `custom_objects` parameter of the load function.\n",
      "WARNING:absl:<keras.layers.recurrent.LSTMCell object at 0x00000161990601C0> has the same name 'LSTMCell' as a built-in Keras object. Consider renaming <class 'keras.layers.recurrent.LSTMCell'> to avoid naming conflicts when loading with `tf.keras.models.load_model`. If renaming is not possible, pass the object in the `custom_objects` parameter of the load function.\n",
      "WARNING:absl:<keras.layers.recurrent.LSTMCell object at 0x00000161991FCB50> has the same name 'LSTMCell' as a built-in Keras object. Consider renaming <class 'keras.layers.recurrent.LSTMCell'> to avoid naming conflicts when loading with `tf.keras.models.load_model`. If renaming is not possible, pass the object in the `custom_objects` parameter of the load function.\n"
     ]
    },
    {
     "name": "stdout",
     "output_type": "stream",
     "text": [
      "125/125 [==============================] - 5s 38ms/step - loss: 6794.8853 - mape: 12.5420 - val_loss: 51473.5703 - val_mape: 8.2224\n",
      "Epoch 17/50\n",
      "118/125 [===========================>..] - ETA: 0s - loss: 6692.3691 - mape: 12.4754INFO:tensorflow:Assets written to: ./models\\8.16_17_mem_5_lstm_1_dense_1_unit_32\\assets\n"
     ]
    },
    {
     "name": "stderr",
     "output_type": "stream",
     "text": [
      "INFO:tensorflow:Assets written to: ./models\\8.16_17_mem_5_lstm_1_dense_1_unit_32\\assets\n",
      "WARNING:absl:<keras.layers.recurrent.LSTMCell object at 0x0000016192926460> has the same name 'LSTMCell' as a built-in Keras object. Consider renaming <class 'keras.layers.recurrent.LSTMCell'> to avoid naming conflicts when loading with `tf.keras.models.load_model`. If renaming is not possible, pass the object in the `custom_objects` parameter of the load function.\n",
      "WARNING:absl:<keras.layers.recurrent.LSTMCell object at 0x00000161990601C0> has the same name 'LSTMCell' as a built-in Keras object. Consider renaming <class 'keras.layers.recurrent.LSTMCell'> to avoid naming conflicts when loading with `tf.keras.models.load_model`. If renaming is not possible, pass the object in the `custom_objects` parameter of the load function.\n",
      "WARNING:absl:<keras.layers.recurrent.LSTMCell object at 0x00000161991FCB50> has the same name 'LSTMCell' as a built-in Keras object. Consider renaming <class 'keras.layers.recurrent.LSTMCell'> to avoid naming conflicts when loading with `tf.keras.models.load_model`. If renaming is not possible, pass the object in the `custom_objects` parameter of the load function.\n"
     ]
    },
    {
     "name": "stdout",
     "output_type": "stream",
     "text": [
      "125/125 [==============================] - 4s 34ms/step - loss: 6675.2061 - mape: 12.4600 - val_loss: 53170.3711 - val_mape: 8.1628\n",
      "Epoch 18/50\n",
      "125/125 [==============================] - 1s 7ms/step - loss: 7176.9795 - mape: 12.3209 - val_loss: 63834.9102 - val_mape: 11.1107\n",
      "Epoch 19/50\n",
      "121/125 [============================>.] - ETA: 0s - loss: 7902.4580 - mape: 12.6937INFO:tensorflow:Assets written to: ./models\\7.85_19_mem_5_lstm_1_dense_1_unit_32\\assets\n"
     ]
    },
    {
     "name": "stderr",
     "output_type": "stream",
     "text": [
      "INFO:tensorflow:Assets written to: ./models\\7.85_19_mem_5_lstm_1_dense_1_unit_32\\assets\n",
      "WARNING:absl:<keras.layers.recurrent.LSTMCell object at 0x0000016192926460> has the same name 'LSTMCell' as a built-in Keras object. Consider renaming <class 'keras.layers.recurrent.LSTMCell'> to avoid naming conflicts when loading with `tf.keras.models.load_model`. If renaming is not possible, pass the object in the `custom_objects` parameter of the load function.\n",
      "WARNING:absl:<keras.layers.recurrent.LSTMCell object at 0x00000161990601C0> has the same name 'LSTMCell' as a built-in Keras object. Consider renaming <class 'keras.layers.recurrent.LSTMCell'> to avoid naming conflicts when loading with `tf.keras.models.load_model`. If renaming is not possible, pass the object in the `custom_objects` parameter of the load function.\n",
      "WARNING:absl:<keras.layers.recurrent.LSTMCell object at 0x00000161991FCB50> has the same name 'LSTMCell' as a built-in Keras object. Consider renaming <class 'keras.layers.recurrent.LSTMCell'> to avoid naming conflicts when loading with `tf.keras.models.load_model`. If renaming is not possible, pass the object in the `custom_objects` parameter of the load function.\n"
     ]
    },
    {
     "name": "stdout",
     "output_type": "stream",
     "text": [
      "125/125 [==============================] - 4s 35ms/step - loss: 7822.7349 - mape: 12.6585 - val_loss: 55933.2227 - val_mape: 7.8523\n",
      "Epoch 20/50\n",
      "125/125 [==============================] - 1s 7ms/step - loss: 6899.8594 - mape: 12.0915 - val_loss: 84132.8906 - val_mape: 12.8118\n",
      "Epoch 21/50\n",
      "125/125 [==============================] - 1s 6ms/step - loss: 7297.2246 - mape: 12.4380 - val_loss: 52478.0391 - val_mape: 9.8068\n",
      "Epoch 22/50\n",
      "125/125 [==============================] - 1s 7ms/step - loss: 6347.9468 - mape: 12.0850 - val_loss: 55796.7227 - val_mape: 10.1583\n",
      "Epoch 23/50\n",
      "125/125 [==============================] - 1s 6ms/step - loss: 6283.1050 - mape: 11.9467 - val_loss: 41252.4023 - val_mape: 8.5281\n",
      "Epoch 24/50\n",
      "121/125 [============================>.] - ETA: 0s - loss: 6430.0234 - mape: 11.8177INFO:tensorflow:Assets written to: ./models\\6.19_24_mem_5_lstm_1_dense_1_unit_32\\assets\n"
     ]
    },
    {
     "name": "stderr",
     "output_type": "stream",
     "text": [
      "INFO:tensorflow:Assets written to: ./models\\6.19_24_mem_5_lstm_1_dense_1_unit_32\\assets\n",
      "WARNING:absl:<keras.layers.recurrent.LSTMCell object at 0x0000016192926460> has the same name 'LSTMCell' as a built-in Keras object. Consider renaming <class 'keras.layers.recurrent.LSTMCell'> to avoid naming conflicts when loading with `tf.keras.models.load_model`. If renaming is not possible, pass the object in the `custom_objects` parameter of the load function.\n",
      "WARNING:absl:<keras.layers.recurrent.LSTMCell object at 0x00000161990601C0> has the same name 'LSTMCell' as a built-in Keras object. Consider renaming <class 'keras.layers.recurrent.LSTMCell'> to avoid naming conflicts when loading with `tf.keras.models.load_model`. If renaming is not possible, pass the object in the `custom_objects` parameter of the load function.\n",
      "WARNING:absl:<keras.layers.recurrent.LSTMCell object at 0x00000161991FCB50> has the same name 'LSTMCell' as a built-in Keras object. Consider renaming <class 'keras.layers.recurrent.LSTMCell'> to avoid naming conflicts when loading with `tf.keras.models.load_model`. If renaming is not possible, pass the object in the `custom_objects` parameter of the load function.\n"
     ]
    },
    {
     "name": "stdout",
     "output_type": "stream",
     "text": [
      "125/125 [==============================] - 4s 33ms/step - loss: 6492.6216 - mape: 11.8480 - val_loss: 26453.1172 - val_mape: 6.1914\n",
      "Epoch 25/50\n",
      "125/125 [==============================] - 1s 7ms/step - loss: 6834.2686 - mape: 12.4316 - val_loss: 101031.6172 - val_mape: 13.8890\n",
      "Epoch 26/50\n",
      "125/125 [==============================] - 1s 7ms/step - loss: 6535.0283 - mape: 11.7186 - val_loss: 109477.2031 - val_mape: 14.4216\n",
      "Epoch 27/50\n",
      "125/125 [==============================] - 1s 6ms/step - loss: 6355.1138 - mape: 11.6917 - val_loss: 154082.9375 - val_mape: 17.1131\n",
      "Epoch 28/50\n",
      "125/125 [==============================] - 1s 7ms/step - loss: 6187.5933 - mape: 11.9478 - val_loss: 33018.8945 - val_mape: 7.2941\n",
      "Epoch 29/50\n",
      "125/125 [==============================] - 1s 7ms/step - loss: 6439.0122 - mape: 11.8777 - val_loss: 117650.7891 - val_mape: 14.6143\n",
      "Epoch 30/50\n",
      "117/125 [===========================>..] - ETA: 0s - loss: 5774.7520 - mape: 11.5826INFO:tensorflow:Assets written to: ./models\\5.27_30_mem_5_lstm_1_dense_1_unit_32\\assets\n"
     ]
    },
    {
     "name": "stderr",
     "output_type": "stream",
     "text": [
      "INFO:tensorflow:Assets written to: ./models\\5.27_30_mem_5_lstm_1_dense_1_unit_32\\assets\n",
      "WARNING:absl:<keras.layers.recurrent.LSTMCell object at 0x0000016192926460> has the same name 'LSTMCell' as a built-in Keras object. Consider renaming <class 'keras.layers.recurrent.LSTMCell'> to avoid naming conflicts when loading with `tf.keras.models.load_model`. If renaming is not possible, pass the object in the `custom_objects` parameter of the load function.\n",
      "WARNING:absl:<keras.layers.recurrent.LSTMCell object at 0x00000161990601C0> has the same name 'LSTMCell' as a built-in Keras object. Consider renaming <class 'keras.layers.recurrent.LSTMCell'> to avoid naming conflicts when loading with `tf.keras.models.load_model`. If renaming is not possible, pass the object in the `custom_objects` parameter of the load function.\n",
      "WARNING:absl:<keras.layers.recurrent.LSTMCell object at 0x00000161991FCB50> has the same name 'LSTMCell' as a built-in Keras object. Consider renaming <class 'keras.layers.recurrent.LSTMCell'> to avoid naming conflicts when loading with `tf.keras.models.load_model`. If renaming is not possible, pass the object in the `custom_objects` parameter of the load function.\n"
     ]
    },
    {
     "name": "stdout",
     "output_type": "stream",
     "text": [
      "125/125 [==============================] - 4s 34ms/step - loss: 5753.3115 - mape: 11.6526 - val_loss: 20132.7090 - val_mape: 5.2666\n",
      "Epoch 31/50\n",
      "125/125 [==============================] - 1s 7ms/step - loss: 5764.0107 - mape: 11.3392 - val_loss: 58852.2773 - val_mape: 9.9363\n",
      "Epoch 32/50\n",
      "125/125 [==============================] - 1s 7ms/step - loss: 5957.1895 - mape: 11.1929 - val_loss: 123374.5938 - val_mape: 14.7503\n",
      "Epoch 33/50\n",
      "125/125 [==============================] - 1s 7ms/step - loss: 5467.5381 - mape: 11.2100 - val_loss: 97208.9219 - val_mape: 13.1277\n",
      "Epoch 34/50\n",
      "125/125 [==============================] - 1s 7ms/step - loss: 5958.4180 - mape: 11.4024 - val_loss: 175388.5625 - val_mape: 17.7847\n",
      "Epoch 35/50\n",
      "125/125 [==============================] - 1s 7ms/step - loss: 6518.1465 - mape: 11.4900 - val_loss: 110777.4375 - val_mape: 13.9273\n",
      "Epoch 36/50\n",
      "125/125 [==============================] - 1s 7ms/step - loss: 5728.8242 - mape: 10.7889 - val_loss: 254862.0469 - val_mape: 21.4506\n",
      "Epoch 37/50\n",
      "125/125 [==============================] - 1s 7ms/step - loss: 5807.2427 - mape: 11.3935 - val_loss: 48599.4297 - val_mape: 8.4920\n",
      "Epoch 38/50\n",
      "125/125 [==============================] - 1s 7ms/step - loss: 5507.9780 - mape: 11.1444 - val_loss: 147412.7344 - val_mape: 15.9017\n",
      "Epoch 39/50\n",
      "125/125 [==============================] - 1s 7ms/step - loss: 5920.6968 - mape: 11.0934 - val_loss: 43851.8359 - val_mape: 7.8451\n",
      "Epoch 40/50\n",
      "125/125 [==============================] - 1s 7ms/step - loss: 5807.4404 - mape: 11.1213 - val_loss: 149676.8281 - val_mape: 15.7077\n",
      "Epoch 41/50\n",
      "125/125 [==============================] - 1s 7ms/step - loss: 5885.9790 - mape: 11.1215 - val_loss: 146176.2031 - val_mape: 15.4918\n",
      "Epoch 42/50\n",
      "125/125 [==============================] - 1s 7ms/step - loss: 5809.9971 - mape: 10.7886 - val_loss: 251456.2188 - val_mape: 20.3722\n",
      "Epoch 43/50\n",
      "125/125 [==============================] - 1s 7ms/step - loss: 6016.9634 - mape: 11.3031 - val_loss: 269940.4688 - val_mape: 21.3548\n",
      "Epoch 44/50\n",
      "125/125 [==============================] - 1s 7ms/step - loss: 5906.3594 - mape: 11.0477 - val_loss: 187214.9062 - val_mape: 17.2351\n",
      "Epoch 45/50\n",
      "125/125 [==============================] - 1s 7ms/step - loss: 6249.4507 - mape: 11.5728 - val_loss: 236159.2188 - val_mape: 19.7954\n",
      "Epoch 46/50\n",
      "125/125 [==============================] - 1s 7ms/step - loss: 5859.8115 - mape: 11.0066 - val_loss: 123638.2500 - val_mape: 13.5944\n",
      "Epoch 47/50\n",
      "125/125 [==============================] - 1s 6ms/step - loss: 5130.2715 - mape: 10.7286 - val_loss: 214948.7656 - val_mape: 18.4553\n",
      "Epoch 48/50\n",
      "125/125 [==============================] - 1s 7ms/step - loss: 4993.7329 - mape: 10.7043 - val_loss: 244761.8750 - val_mape: 20.1331\n",
      "Epoch 49/50\n",
      "125/125 [==============================] - 1s 7ms/step - loss: 5444.3174 - mape: 10.6450 - val_loss: 97571.6641 - val_mape: 12.0800\n",
      "Epoch 50/50\n",
      "125/125 [==============================] - 1s 7ms/step - loss: 6186.6406 - mape: 10.9602 - val_loss: 218645.2656 - val_mape: 18.6307\n"
     ]
    }
   ],
   "source": [
    "pre_days = 10\n",
    "# mem_days = [5,10,15]\n",
    "# lstm_layers = [1,2,3]\n",
    "# dense_layers = [1,2,3]\n",
    "# units = [16,32]#神经元\n",
    "mem_days = [5]\n",
    "lstm_layers = [1]\n",
    "dense_layers = [1]\n",
    "units = [32]#神经元\n",
    "\n",
    "\n",
    "from tensorflow.keras.callbacks import ModelCheckpoint#查找训练最佳的模型\n",
    "for the_mem_days in mem_days:\n",
    "    for the_lstm_layers in lstm_layers:\n",
    "        for the_dense_layers in dense_layers:\n",
    "            for the_units in units:\n",
    "                filepath = './models/{val_mape:.2f}_{epoch:02d}_'+f'mem_{the_mem_days}_lstm_{the_lstm_layers}_dense_{the_dense_layers}_unit_{the_units}'\n",
    "                checkpoint = ModelCheckpoint(\n",
    "                    filepath = filepath,\n",
    "                    save_weights_only=False,#保存模型权重（True），false是保存模型全部\n",
    "                    monitor='val_mape',\n",
    "                    mode = 'min',\n",
    "                    save_best_only=True\n",
    "                    \n",
    "                )\n",
    "                X,y,X_lately = Stock_Price_LSTM_Data_Precesing(df,the_mem_days,pre_days)\n",
    "                from sklearn.model_selection import train_test_split\n",
    "                X_train,X_test,y_train,y_test = train_test_split(X,y,shuffle=False,test_size=0.1)\n",
    "                \n",
    "                import tensorflow as tf\n",
    "                from tensorflow.keras.models import Sequential#引入keras 序贯模型\n",
    "                from tensorflow.keras.layers import LSTM,Dense,Dropout\n",
    "                model = Sequential()\n",
    "                model.add(LSTM(the_units,input_shape=X.shape[1:],activation='relu',return_sequences=True))#10个神经单元\n",
    "                model.add(Dropout(0.1))#防止过拟合\n",
    "                \n",
    "                for i in range(the_lstm_layers):\n",
    "                    model.add(LSTM(the_units,activation='relu',return_sequences=True))\n",
    "                    model.add(Dropout(0.1))\n",
    "                    \n",
    "                model.add(LSTM(the_units,activation='relu'))\n",
    "                model.add(Dropout(0.1))\n",
    "                \n",
    "                for i in range(the_dense_layers):\n",
    "                    \n",
    "                    model.add(Dense(the_units,activation='relu'))#全连接层\n",
    "                    model.add(Dropout(0.1))\n",
    "\n",
    "                model.add(Dense(1))#输出层\n",
    "\n",
    "\n",
    "\n",
    "                model.compile(optimizer='adam',\n",
    "                               loss='mse',  \n",
    "                               metrics=['mape'])#优化器adam，损失函数平均方差,评价函数mape（平均误差率）\n",
    "\n",
    "                model.fit(X_train,y_train,batch_size=32,epochs=50,validation_data=(X_test,y_test),callbacks=[checkpoint])\n",
    "\n"
   ]
  },
  {
   "cell_type": "code",
   "execution_count": 6,
   "id": "a20f5d5a",
   "metadata": {},
   "outputs": [],
   "source": [
    "from tensorflow.keras.models import load_model\n",
    "best_model = load_model('./models/5.27_30_mem_5_lstm_1_dense_1_unit_32')"
   ]
  },
  {
   "cell_type": "code",
   "execution_count": 7,
   "id": "b4b5dda1",
   "metadata": {},
   "outputs": [
    {
     "name": "stdout",
     "output_type": "stream",
     "text": [
      "Model: \"sequential\"\n",
      "_________________________________________________________________\n",
      " Layer (type)                Output Shape              Param #   \n",
      "=================================================================\n",
      " lstm (LSTM)                 (None, 5, 32)             4864      \n",
      "                                                                 \n",
      " dropout (Dropout)           (None, 5, 32)             0         \n",
      "                                                                 \n",
      " lstm_1 (LSTM)               (None, 5, 32)             8320      \n",
      "                                                                 \n",
      " dropout_1 (Dropout)         (None, 5, 32)             0         \n",
      "                                                                 \n",
      " lstm_2 (LSTM)               (None, 32)                8320      \n",
      "                                                                 \n",
      " dropout_2 (Dropout)         (None, 32)                0         \n",
      "                                                                 \n",
      " dense (Dense)               (None, 32)                1056      \n",
      "                                                                 \n",
      " dropout_3 (Dropout)         (None, 32)                0         \n",
      "                                                                 \n",
      " dense_1 (Dense)             (None, 1)                 33        \n",
      "                                                                 \n",
      "=================================================================\n",
      "Total params: 22,593\n",
      "Trainable params: 22,593\n",
      "Non-trainable params: 0\n",
      "_________________________________________________________________\n"
     ]
    }
   ],
   "source": [
    "best_model.summary()"
   ]
  },
  {
   "cell_type": "code",
   "execution_count": 13,
   "id": "520b89ec",
   "metadata": {},
   "outputs": [
    {
     "name": "stdout",
     "output_type": "stream",
     "text": [
      "14/14 [==============================] - 0s 3ms/step - loss: 20132.7090 - mape: 5.2666\n"
     ]
    }
   ],
   "source": [
    "best_model.evaluate(X_test,y_test)\n",
    "pre = best_model.predict(X_test)"
   ]
  },
  {
   "cell_type": "code",
   "execution_count": 9,
   "id": "31c5448e",
   "metadata": {},
   "outputs": [
    {
     "name": "stdout",
     "output_type": "stream",
     "text": [
      "14/14 [==============================] - 0s 2ms/step - loss: 218645.2656 - mape: 18.6307\n"
     ]
    },
    {
     "data": {
      "text/plain": [
       "[218645.265625, 18.630733489990234]"
      ]
     },
     "execution_count": 9,
     "metadata": {},
     "output_type": "execute_result"
    }
   ],
   "source": [
    "model.evaluate(X_test,y_test)"
   ]
  },
  {
   "cell_type": "code",
   "execution_count": 14,
   "id": "04584900",
   "metadata": {},
   "outputs": [
    {
     "data": {
      "image/png": "[encoded data removed]",
      "text/plain": [
       "<Figure size 432x288 with 1 Axes>"
      ]
     },
     "metadata": {
      "needs_background": "light"
     },
     "output_type": "display_data"
    }
   ],
   "source": [
    "import matplotlib.pyplot as plt\n",
    "df_time = df.index[-len(y_test):]\n",
    "plt.plot(df_time,y_test,color='red',label='price')\n",
    "plt.plot(df_time,pre,color='green',label='predict')\n",
    "plt.show()\n"
   ]
  },
  {
   "cell_type": "code",
   "execution_count": null,
   "id": "efec0bc8",
   "metadata": {},
   "outputs": [],
   "source": []
  }
 ],
 "metadata": {
  "kernelspec": {
   "display_name": "Python 3 (ipykernel)",
   "language": "python",
   "name": "python3"
  },
  "language_info": {
   "codemirror_mode": {
    "name": "ipython",
    "version": 3
   },
   "file_extension": ".py",
   "mimetype": "text/x-python",
   "name": "python",
   "nbconvert_exporter": "python",
   "pygments_lexer": "ipython3",
   "version": "3.9.7"
  }
 },
 "nbformat": 4,
 "nbformat_minor": 5
}
